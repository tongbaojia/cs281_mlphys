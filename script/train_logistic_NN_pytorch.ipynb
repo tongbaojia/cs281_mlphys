{
 "cells": [
  {
   "cell_type": "code",
   "execution_count": 10,
   "metadata": {},
   "outputs": [],
   "source": [
    "import pandas as pd\n",
    "import numpy as np\n",
    "import matplotlib as mpl\n",
    "import matplotlib.pyplot as plt\n",
    "import matplotlib.gridspec as gridspec\n",
    "import matplotlib.patches as mpatches\n",
    "from sklearn import metrics\n",
    "from sklearn import preprocessing"
   ]
  },
  {
   "cell_type": "code",
   "execution_count": 11,
   "metadata": {},
   "outputs": [],
   "source": [
    "import torch\n",
    "import torch.nn as nn\n",
    "import torch.nn.functional as F\n",
    "from torch.autograd import Variable\n",
    "from torch.utils.data import Dataset, DataLoader"
   ]
  },
  {
   "cell_type": "code",
   "execution_count": 12,
   "metadata": {},
   "outputs": [],
   "source": [
    "import os\n",
    "from sys import argv\n",
    "import pdb"
   ]
  },
  {
   "cell_type": "code",
   "execution_count": 13,
   "metadata": {},
   "outputs": [],
   "source": [
    "def get_data(data_dir):\n",
    "    fs = [data_dir + f for f in os.listdir(data_dir) if ('signal' in f or 'WZ' in f) and f[0] != '.']\n",
    "    df = pd.DataFrame()\n",
    "\n",
    "    for f in fs:\n",
    "        print f\n",
    "        new_df = pd.read_csv(f)\n",
    "        df = pd.concat([df, new_df], ignore_index = True)\n",
    "        df.index = range(len(df))\n",
    "\n",
    "    return df"
   ]
  },
  {
   "cell_type": "code",
   "execution_count": 14,
   "metadata": {},
   "outputs": [],
   "source": [
    "def add_cl_ix(df):\n",
    "    df['is_sig'] = [1 if 'signal' in val else 0 for val in df.cl.values]\n",
    "    return df"
   ]
  },
  {
   "cell_type": "code",
   "execution_count": 15,
   "metadata": {},
   "outputs": [],
   "source": [
    "class WWdataset(Dataset):\n",
    "\n",
    "    def __init__(self, pd_dataset):\n",
    "        self.dataset = pd_dataset\n",
    "\n",
    "        self.input_vars = [col for col in self.dataset.columns if not col in ['runNumber', 'lbNumber', 'eventNumber', 'SFOS', 'is_sig', 'weight', 'cl', 'preds']]\n",
    "\n",
    "        self.target_var = ['is_sig']\n",
    "        self.weight_var = ['weight']\n",
    "\n",
    "        self.input_np = self.dataset[self.input_vars].as_matrix().astype(dtype=np.float32)\n",
    "        self.target_np = self.dataset[self.target_var].as_matrix().astype(dtype=int)\n",
    "        self.weight_np =self.dataset[self.weight_var].as_matrix().astype(dtype=np.float32)\n",
    "\n",
    "        self.inputs = torch.from_numpy(self.input_np)\n",
    "        self.target = torch.from_numpy(self.target_np)\n",
    "        self.weight = torch.from_numpy(self.weight_np)\n",
    "\n",
    "    def __len__(self):\n",
    "        return len(self.dataset)\n",
    "\n",
    "    def __getitem__(self, idx):\n",
    "        inputs = self.inputs[idx]\n",
    "        target = self.target[idx]\n",
    "        weight = self.weight[idx]\n",
    "        return inputs, target, weight\n",
    "\n",
    "    def n_input(self):\n",
    "        return len(self.input_vars)\n",
    "    \n",
    "    def scale_dataset(self):\n",
    "        # developing\n",
    "        for target_value in [0, 1]:\n",
    "            pass"
   ]
  },
  {
   "cell_type": "code",
   "execution_count": 16,
   "metadata": {},
   "outputs": [],
   "source": [
    "def net_logistic_regression(n_input):\n",
    "    model = torch.nn.Sequential(\n",
    "        torch.nn.Linear(n_input, 2),\n",
    "    )\n",
    "    return model"
   ]
  },
  {
   "cell_type": "code",
   "execution_count": 17,
   "metadata": {},
   "outputs": [],
   "source": [
    "def net_deep_logistic_regression(n_input):\n",
    "    model = torch.nn.Sequential(\n",
    "        torch.nn.Linear(n_input, 100),\n",
    "        torch.nn.ReLU(),\n",
    "        torch.nn.Linear(100, 10),\n",
    "        torch.nn.ReLU(),\n",
    "        torch.nn.Linear(10, 2),\n",
    "    )\n",
    "    return model"
   ]
  },
  {
   "cell_type": "code",
   "execution_count": 20,
   "metadata": {},
   "outputs": [
    {
     "name": "stdout",
     "output_type": "stream",
     "text": [
      "../../data/bkg_WZqqll.csv\n",
      "../../data/signal_WmWpWm.csv\n",
      "../../data/bkg_WZlvll.csv\n",
      "../../data/signal_WpWpWm.csv\n"
     ]
    }
   ],
   "source": [
    "data_dir = \"../../data/\"\n",
    "pandas_dataset = add_cl_ix(get_data(data_dir))\n",
    "\n",
    "in_dataset = WWdataset(pandas_dataset)\n",
    "trainloader = torch.utils.data.DataLoader(in_dataset, batch_size=200, shuffle=True, num_workers=2)"
   ]
  },
  {
   "cell_type": "code",
   "execution_count": 21,
   "metadata": {},
   "outputs": [],
   "source": [
    "#net = net_logistic_regression(in_dataset.n_input())\n",
    "net = net_deep_logistic_regression(in_dataset.n_input())\n",
    "criterion = nn.CrossEntropyLoss(reduce=False)\n",
    "optimizer = torch.optim.Adam(net.parameters(), lr=0.001, weight_decay=1e-5)"
   ]
  },
  {
   "cell_type": "markdown",
   "metadata": {},
   "source": [
    "# Training"
   ]
  },
  {
   "cell_type": "code",
   "execution_count": 22,
   "metadata": {},
   "outputs": [
    {
     "name": "stdout",
     "output_type": "stream",
     "text": [
      "\n",
      "epoch:  0\n",
      "batch:  200, loss: 0.147117652297\n",
      "batch:  400, loss: 0.125536965504\n",
      "batch:  600, loss: 0.117212351784\n",
      "batch:  800, loss: 0.111387496591\n",
      "batch:  1000, loss: 0.108573903337\n",
      "batch:  1200, loss: 0.105190123636\n",
      "batch:  1400, loss: 0.102270311639\n",
      "batch:  1600, loss: 0.0999804490712\n",
      "batch:  1800, loss: 0.0987248577033\n",
      "batch:  2000, loss: 0.0973260268029\n",
      "batch:  2200, loss: 0.0961176706173\n",
      "batch:  2400, loss: 0.095056086566\n",
      "batch:  2600, loss: 0.0947417830361\n",
      "batch:  2800, loss: 0.0939744775423\n",
      "batch:  3000, loss: 0.0932223996557\n",
      "batch:  3200, loss: 0.0929775172588\n",
      "batch:  3400, loss: 0.0927156185775\n",
      "\n",
      "epoch:  1\n",
      "batch:  200, loss: 0.0830659084581\n",
      "batch:  400, loss: 0.0826538301352\n",
      "batch:  600, loss: 0.0821997235032\n",
      "batch:  800, loss: 0.0822846028255\n",
      "batch:  1000, loss: 0.0852944866978\n",
      "batch:  1200, loss: 0.0855045397052\n",
      "batch:  1400, loss: 0.0854182330652\n",
      "batch:  1600, loss: 0.0849185288209\n",
      "batch:  1800, loss: 0.0846304851294\n",
      "batch:  2000, loss: 0.0844289225824\n",
      "batch:  2200, loss: 0.0841648361612\n",
      "batch:  2400, loss: 0.0839272790511\n",
      "batch:  2600, loss: 0.0838495035484\n",
      "batch:  2800, loss: 0.0837137323578\n",
      "batch:  3000, loss: 0.0837343496146\n",
      "batch:  3200, loss: 0.0835969126399\n",
      "batch:  3400, loss: 0.0835391317078\n",
      "\n",
      "epoch:  2\n",
      "batch:  200, loss: 0.0806743325293\n",
      "batch:  400, loss: 0.081033534836\n",
      "batch:  600, loss: 0.0817968371697\n",
      "batch:  800, loss: 0.0817001947248\n",
      "batch:  1000, loss: 0.0817583134659\n",
      "batch:  1200, loss: 0.0814650512394\n",
      "batch:  1400, loss: 0.0814900770491\n",
      "batch:  1600, loss: 0.081331792518\n",
      "batch:  1800, loss: 0.0817876911515\n",
      "batch:  2000, loss: 0.0817067688238\n",
      "batch:  2200, loss: 0.0816639884155\n",
      "batch:  2400, loss: 0.0818094689182\n",
      "batch:  2600, loss: 0.0817727550091\n",
      "batch:  2800, loss: 0.0817604540288\n",
      "batch:  3000, loss: 0.081862446246\n",
      "batch:  3200, loss: 0.0818487966829\n",
      "batch:  3400, loss: 0.08172342614\n",
      "\n",
      "epoch:  3\n",
      "batch:  200, loss: 0.0816182975471\n",
      "batch:  400, loss: 0.0816985477414\n",
      "batch:  600, loss: 0.0816805096157\n",
      "batch:  800, loss: 0.0812175887777\n",
      "batch:  1000, loss: 0.0810597515516\n",
      "batch:  1200, loss: 0.0811078606329\n",
      "batch:  1400, loss: 0.0811077020477\n",
      "batch:  1600, loss: 0.0810996073764\n",
      "batch:  1800, loss: 0.0810248961051\n",
      "batch:  2000, loss: 0.0811922625061\n",
      "batch:  2200, loss: 0.0812050444226\n",
      "batch:  2400, loss: 0.0810556170034\n",
      "batch:  2600, loss: 0.0810334661918\n",
      "batch:  2800, loss: 0.0809799480252\n",
      "batch:  3000, loss: 0.0809927529668\n",
      "batch:  3200, loss: 0.0809694249276\n",
      "batch:  3400, loss: 0.0809000042322\n",
      "\n",
      "epoch:  4\n",
      "batch:  200, loss: 0.0802513584308\n",
      "batch:  400, loss: 0.0800433497783\n",
      "batch:  600, loss: 0.0800932742469\n",
      "batch:  800, loss: 0.080086518121\n",
      "batch:  1000, loss: 0.0802305839621\n",
      "batch:  1200, loss: 0.0801549287699\n",
      "batch:  1400, loss: 0.0800610779678\n",
      "batch:  1600, loss: 0.0799918955588\n",
      "batch:  1800, loss: 0.0800143032086\n",
      "batch:  2000, loss: 0.0800637475159\n",
      "batch:  2200, loss: 0.0800469278019\n",
      "batch:  2400, loss: 0.0800077973896\n",
      "batch:  2600, loss: 0.0799578255042\n",
      "batch:  2800, loss: 0.0799343697328\n",
      "batch:  3000, loss: 0.080004106503\n",
      "batch:  3200, loss: 0.0800277144508\n",
      "batch:  3400, loss: 0.0800128754601\n"
     ]
    }
   ],
   "source": [
    "for epoch in range(5):\n",
    "        print\n",
    "        print \"epoch: \", epoch\n",
    "        running_loss = 0.\n",
    "        for i, data in enumerate(trainloader):\n",
    "            inputs, label, weight = data\n",
    "            inputs, label, weight = Variable(inputs), Variable(label), Variable(weight)\n",
    "\n",
    "            optimizer.zero_grad()\n",
    "            output = net(inputs)\n",
    "            losses = criterion(output, label.squeeze())\n",
    "            loss = (losses * weight.squeeze()).sum()\n",
    "            loss.backward()\n",
    "            optimizer.step()\n",
    "\n",
    "            running_loss += loss.data[0]\n",
    "            if i % 200 == 199:    # print every 2000 mini-batches\n",
    "                print \"batch:  {}, loss: {}\".format(i+1, running_loss/(i+1))"
   ]
  },
  {
   "cell_type": "markdown",
   "metadata": {},
   "source": [
    "# Prediction"
   ]
  },
  {
   "cell_type": "code",
   "execution_count": 23,
   "metadata": {},
   "outputs": [],
   "source": [
    "input_for_pred = Variable(in_dataset.inputs)\n",
    "predicted_scores = net(input_for_pred)\n",
    "predicted_prob = nn.functional.softmax(predicted_scores, dim=1)"
   ]
  },
  {
   "cell_type": "code",
   "execution_count": 24,
   "metadata": {},
   "outputs": [],
   "source": [
    "pandas_dataset['preds'] = predicted_prob.data.numpy()[:,1]"
   ]
  },
  {
   "cell_type": "code",
   "execution_count": 54,
   "metadata": {},
   "outputs": [
    {
     "data": {
      "image/png": "[encoded data removed]",
      "text/plain": [
       "<Figure size 720x432 with 3 Axes>"
      ]
     },
     "metadata": {},
     "output_type": "display_data"
    }
   ],
   "source": [
    "df = pandas_dataset\n",
    "df = df[df['SFOS'] == 0] \n",
    "\n",
    "x_bins = np.linspace(0, max(df.preds), 30)\n",
    "fig = plt.figure(figsize=(10,6))\n",
    "gs = gridspec.GridSpec(3, 1)\n",
    "ax = plt.subplot(gs[0,:])\n",
    "plt.title('NN Regression Separability on train sample')\n",
    "# n_bkg,bins,paint = plt.hist(df[df.is_sig == 0].preds, bins=x_bins, weights=df[df.is_sig == 0].weight, color='r')\n",
    "n_bkg,bins,paint = plt.hist(df[df.is_sig == 0].preds.as_matrix(), bins=x_bins, weights=df[df.is_sig == 0].weight.as_matrix(), color='r')\n",
    "plt.yscale('log')\n",
    "plt.ylabel(r'Weighted Background Counts', size=9)\n",
    "plt.legend(handles=[mpatches.Patch(color='red', label='Background')])\n",
    "ax1 = plt.subplot(gs[1,:])\n",
    "n_sig,bins,paint = plt.hist(df[df.is_sig == 1].preds.as_matrix(), bins=x_bins, weights=df[df.is_sig == 1].weight.as_matrix(), color='g')\n",
    "plt.yscale('log')\n",
    "plt.ylabel(r'Weighted Signal Counts', size=9)\n",
    "plt.legend(handles=[mpatches.Patch(color='green', label='Signal')])\n",
    "ax2 = plt.subplot(gs[2,:])\n",
    "plt.bar((x_bins[:-1] + x_bins[1:]) / 2., n_sig / np.sqrt(n_bkg), width=x_bins[1] - x_bins[0], color='k')\n",
    "plt.ylabel(r'Significance ($S/\\sqrt{B})$', size=9)\n",
    "plt.xlabel('Probability Event is a Signal')\n",
    "\n",
    "plt.tight_layout()\n",
    "plt.show()\n",
    "# plt.savefig(\"./plots/preds_train_nn_regression.pdf\")"
   ]
  },
  {
   "cell_type": "code",
   "execution_count": 25,
   "metadata": {},
   "outputs": [],
   "source": [
    "df = pandas_dataset\n",
    "\n",
    "fpr, tpr, thresholds = metrics.roc_curve(df.is_sig.values, df.preds.values, pos_label=1)\n",
    "fig = plt.figure(figsize=(6,6))\n",
    "plt.plot(fpr, tpr)\n",
    "plt.title('NN Regression ROC')\n",
    "plt.annotate('Area: ' + str(round(metrics.auc(fpr, tpr), 2)), xy=(.8,.2), xycoords='axes fraction')\n",
    "plt.xlim((0,1))\n",
    "plt.ylim((0,1))\n",
    "plt.plot([0,1], [0,1], linestyle='--')\n",
    "plt.xlabel('False Positive Rate')\n",
    "plt.ylabel('True Positive Rate')\n",
    "\n",
    "plt.show\n",
    "plt.savefig(\"./plots/roc_curve_train_nn_regression.pdf\")"
   ]
  },
  {
   "cell_type": "code",
   "execution_count": 37,
   "metadata": {},
   "outputs": [
    {
     "data": {
      "text/plain": [
       "0.5173087712083756"
      ]
     },
     "execution_count": 37,
     "metadata": {},
     "output_type": "execute_result"
    }
   ],
   "source": [
    "df[df.is_sig == 1].weight.sum()/np.sqrt(df[df.is_sig == 0].weight.sum())"
   ]
  },
  {
   "cell_type": "markdown",
   "metadata": {},
   "source": [
    "# Developing"
   ]
  },
  {
   "cell_type": "code",
   "execution_count": 55,
   "metadata": {},
   "outputs": [],
   "source": [
    "# https://github.com/tongbaojia/MakePlot/blob/master/get_count.py#L780\n",
    "# sensitivity = ROOT.TMath.Sqrt(2 * ((S + B) * ROOT.TMath.Log(1 + S / B) - S))\n",
    "# sensitivity_err = (ROOT.TMath.Log(1 + S / B) * S_err + (ROOT.TMath.Log(1 + S / B) - S / B) * B_err) / sensitivity\n",
    "\n"
   ]
  },
  {
   "cell_type": "code",
   "execution_count": null,
   "metadata": {},
   "outputs": [],
   "source": []
  }
 ],
 "metadata": {
  "kernelspec": {
   "display_name": "Python 2",
   "language": "python",
   "name": "python2"
  },
  "language_info": {
   "codemirror_mode": {
    "name": "ipython",
    "version": 2
   },
   "file_extension": ".py",
   "mimetype": "text/x-python",
   "name": "python",
   "nbconvert_exporter": "python",
   "pygments_lexer": "ipython2",
   "version": "2.7.11"
  }
 },
 "nbformat": 4,
 "nbformat_minor": 2
}
