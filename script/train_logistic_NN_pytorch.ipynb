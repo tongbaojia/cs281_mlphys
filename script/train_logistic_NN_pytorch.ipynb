{
 "cells": [
  {
   "cell_type": "code",
   "execution_count": 1,
   "metadata": {},
   "outputs": [],
   "source": [
    "import pandas as pd\n",
    "import numpy as np\n",
    "import matplotlib as mpl\n",
    "import matplotlib.pyplot as plt\n",
    "import matplotlib.gridspec as gridspec\n",
    "import matplotlib.patches as mpatches\n",
    "from sklearn import metrics\n",
    "from sklearn.preprocessing import StandardScaler, LabelBinarizer, scale\n",
    "from sklearn_pandas import DataFrameMapper\n",
    "from sklearn.pipeline import Pipeline\n",
    "from sklearn.utils import shuffle"
   ]
  },
  {
   "cell_type": "code",
   "execution_count": 2,
   "metadata": {},
   "outputs": [],
   "source": [
    "from matplotlib.colors import LogNorm"
   ]
  },
  {
   "cell_type": "code",
   "execution_count": 3,
   "metadata": {},
   "outputs": [],
   "source": [
    "import torch\n",
    "import torch.nn as nn\n",
    "import torch.nn.functional as F\n",
    "from torch.autograd import Variable\n",
    "from torch.utils.data import Dataset, DataLoader"
   ]
  },
  {
   "cell_type": "code",
   "execution_count": 4,
   "metadata": {},
   "outputs": [],
   "source": [
    "import os\n",
    "from sys import argv\n",
    "import pdb"
   ]
  },
  {
   "cell_type": "code",
   "execution_count": 5,
   "metadata": {},
   "outputs": [],
   "source": [
    "def m(x, w):\n",
    "    \"\"\"Weighted Mean\"\"\"\n",
    "    return np.sum(x * w) / np.sum(w)\n",
    "\n",
    "def cov(x, y, w):\n",
    "    \"\"\"Weighted Covariance\"\"\"\n",
    "    return np.sum(w * (x - m(x, w)) * (y - m(y, w))) / np.sum(w)\n",
    "\n",
    "def corr(x, y, w):\n",
    "    \"\"\"Weighted Correlation\"\"\"\n",
    "    return cov(x, y, w) / np.sqrt(cov(x, x, w) * cov(y, y, w))"
   ]
  },
  {
   "cell_type": "code",
   "execution_count": 6,
   "metadata": {},
   "outputs": [],
   "source": [
    "def get_data(data_dir):\n",
    "    fs = [data_dir + f for f in os.listdir(data_dir) if ('signal' in f or 'WZ' in f) and f[0] != '.']\n",
    "    df = pd.DataFrame()\n",
    "\n",
    "    for f in fs:\n",
    "        print f\n",
    "        new_df = pd.read_csv(f)\n",
    "        df = pd.concat([df, new_df], ignore_index = True)\n",
    "        df.index = range(len(df))\n",
    "\n",
    "    return df"
   ]
  },
  {
   "cell_type": "code",
   "execution_count": 7,
   "metadata": {},
   "outputs": [],
   "source": [
    "def add_cl_ix(df):\n",
    "    df['is_sig'] = [1 if 'signal' in val else 0 for val in df.cl.values]\n",
    "    return df"
   ]
  },
  {
   "cell_type": "code",
   "execution_count": 8,
   "metadata": {},
   "outputs": [],
   "source": [
    "class WWdataset(Dataset):\n",
    "\n",
    "    def __init__(self, pd_dataset, non_input=None):\n",
    "        self.dataset = pd_dataset\n",
    "        \n",
    "        self.scale_dataset()\n",
    "        \n",
    "        self.non_input = ['runNumber', 'lbNumber', 'eventNumber', 'SFOS', 'is_sig', 'weight', 'cl', 'preds']\n",
    "        self.non_input += non_input\n",
    "        self.input_vars = [col for col in self.dataset.columns if not col in self.non_input]\n",
    "\n",
    "        self.target_var = ['is_sig']\n",
    "        self.weight_var = ['weight']\n",
    "        \n",
    "        self.input_np = self.dataset[self.input_vars].as_matrix().astype(dtype=np.float32)\n",
    "        self.target_np = self.dataset[self.target_var].as_matrix().astype(dtype=int)\n",
    "        self.weight_np =self.dataset[self.weight_var].as_matrix().astype(dtype=np.float32)\n",
    "\n",
    "        self.inputs = torch.from_numpy(self.input_np)\n",
    "        self.target = torch.from_numpy(self.target_np)\n",
    "        self.weight = torch.from_numpy(self.weight_np)\n",
    "\n",
    "    def __len__(self):\n",
    "        return len(self.dataset)\n",
    "\n",
    "    def __getitem__(self, idx):\n",
    "        inputs = self.inputs[idx]\n",
    "        target = self.target[idx]\n",
    "        weight = self.weight[idx]\n",
    "        return inputs, target, weight\n",
    "\n",
    "    def n_input(self):\n",
    "        return len(self.input_vars)\n",
    "    \n",
    "    def scale_dataset(self):\n",
    "        continuous_cols = [column for column in self.dataset.columns \n",
    "                           if self.dataset[column].dtype is np.dtype('float64') and column != 'weight']\n",
    "        self.dataset[continuous_cols] = scale(self.dataset[continuous_cols])\n",
    "        "
   ]
  },
  {
   "cell_type": "code",
   "execution_count": 9,
   "metadata": {},
   "outputs": [],
   "source": [
    "def net_logistic_regression(n_input):\n",
    "    model = torch.nn.Sequential(\n",
    "        torch.nn.Linear(n_input, 2),\n",
    "    )\n",
    "    return model"
   ]
  },
  {
   "cell_type": "code",
   "execution_count": 10,
   "metadata": {},
   "outputs": [],
   "source": [
    "def net_deep_logistic_regression(n_input):\n",
    "    model = torch.nn.Sequential(\n",
    "        torch.nn.Linear(n_input, 200),\n",
    "        torch.nn.ReLU(),\n",
    "        torch.nn.Linear(200, 100),\n",
    "        torch.nn.ReLU(),\n",
    "        torch.nn.Linear(100, 10),\n",
    "        torch.nn.ReLU(),\n",
    "        torch.nn.Linear(10, 2),\n",
    "    )\n",
    "    return model"
   ]
  },
  {
   "cell_type": "code",
   "execution_count": null,
   "metadata": {},
   "outputs": [],
   "source": [
    "data_dir = \"../../data/\"\n",
    "pandas_dataset = add_cl_ix(get_data(data_dir))"
   ]
  },
  {
   "cell_type": "code",
   "execution_count": null,
   "metadata": {},
   "outputs": [],
   "source": [
    "non_input = ['l0_m', 'l1_m', 'l2_m', 'SF0S']\n",
    "train_fraction = 0.7\n",
    "pandas_dataset = shuffle(pandas_dataset)\n",
    "n_switch = int(0.7 * len(pandas_dataset))\n",
    "\n",
    "train_dataset = pandas_dataset[:n_switch]\n",
    "test_dataset = pandas_dataset[n_switch:]\n",
    "\n",
    "train_dataset = WWdataset(train_dataset)\n",
    "test_dataset = WWdataset(test_dataset)\n",
    "\n",
    "trainloader = torch.utils.data.DataLoader(train_dataset, batch_size=200, shuffle=True, num_workers=2)\n",
    "testloader = torch.utils.data.DataLoader(test_dataset, batch_size=200, shuffle=True, num_workers=2)"
   ]
  },
  {
   "cell_type": "code",
   "execution_count": null,
   "metadata": {},
   "outputs": [],
   "source": [
    "#net = net_logistic_regression(in_dataset.n_input())\n",
    "net = net_deep_logistic_regression(in_dataset.n_input())\n",
    "criterion = nn.CrossEntropyLoss(reduce=False)\n",
    "optimizer = torch.optim.Adam(net.parameters(), lr=0.001, weight_decay=1e-5)"
   ]
  },
  {
   "cell_type": "markdown",
   "metadata": {},
   "source": [
    "# Training"
   ]
  },
  {
   "cell_type": "code",
   "execution_count": null,
   "metadata": {},
   "outputs": [],
   "source": [
    "def compute_loss_batch(batch, net):\n",
    "    inputs, label, weight = batch\n",
    "    inputs, label, weight = Variable(inputs), Variable(label), Variable(weight)\n",
    "\n",
    "    output = net(inputs)\n",
    "    losses = criterion(output, label.squeeze())\n",
    "    loss = (losses * weight.squeeze()).sum()\n",
    "\n",
    "    return loss\n",
    "\n",
    "def compute_loss_epoch(loader, net):\n",
    "    loss = 0.\n",
    "    for i, batch in enumerate(loader):\n",
    "        loss += compute_loss_batch(batch, net).data[0]\n",
    "    loss /= len(loader)\n",
    "    return loss"
   ]
  },
  {
   "cell_type": "code",
   "execution_count": null,
   "metadata": {},
   "outputs": [],
   "source": [
    "for epoch in range(6):\n",
    "        print\n",
    "        print \"epoch: \", epoch\n",
    "        running_loss = 0.\n",
    "        for i, batch in enumerate(trainloader):\n",
    "\n",
    "            optimizer.zero_grad()\n",
    "            loss = compute_loss_batch(batch, net)\n",
    "            loss.backward()\n",
    "            optimizer.step()\n",
    "\n",
    "            running_loss += loss.data[0]\n",
    "            # if i % 200 == 199:    # print every 200 mini-batches\n",
    "            #   print \"batch:  {}, loss: {}\".format(i+1, running_loss/(i+1))\n",
    "        print \"running loss: \", running_loss/len(trainloader)\n",
    "        print \"train loss: \", compute_loss_epoch(trainloader, net)        \n",
    "        print \"test loss: \", compute_loss_epoch(testloader, net)"
   ]
  },
  {
   "cell_type": "code",
   "execution_count": null,
   "metadata": {},
   "outputs": [],
   "source": [
    "for epoch in range(6):\n",
    "        print\n",
    "        print \"epoch: \", epoch\n",
    "        running_loss = 0.\n",
    "        for i, data in enumerate(trainloader):\n",
    "            inputs, label, weight = data\n",
    "            inputs, label, weight = Variable(inputs), Variable(label), Variable(weight)\n",
    "\n",
    "            optimizer.zero_grad()\n",
    "            output = net(inputs)\n",
    "            losses = criterion(output, label.squeeze())\n",
    "            loss = (losses * weight.squeeze()).sum()\n",
    "            loss.backward()\n",
    "            optimizer.step()\n",
    "\n",
    "            running_loss += loss.data[0]\n",
    "            if i % 200 == 199:    # print every 200 mini-batches\n",
    "                print \"batch:  {}, loss: {}\".format(i+1, running_loss/(i+1))"
   ]
  },
  {
   "cell_type": "markdown",
   "metadata": {},
   "source": [
    "# Prediction and Signficance"
   ]
  },
  {
   "cell_type": "code",
   "execution_count": null,
   "metadata": {},
   "outputs": [],
   "source": [
    "input_for_pred = Variable(in_dataset.inputs)\n",
    "predicted_scores = net(input_for_pred)\n",
    "predicted_prob = nn.functional.softmax(predicted_scores, dim=1)"
   ]
  },
  {
   "cell_type": "code",
   "execution_count": null,
   "metadata": {},
   "outputs": [],
   "source": [
    "pandas_dataset['preds'] = predicted_prob.data.numpy()[:,1]"
   ]
  },
  {
   "cell_type": "markdown",
   "metadata": {},
   "source": [
    "## ROC curve"
   ]
  },
  {
   "cell_type": "code",
   "execution_count": null,
   "metadata": {},
   "outputs": [],
   "source": [
    "df = pandas_dataset\n",
    "\n",
    "fpr, tpr, thresholds = metrics.roc_curve(df.is_sig.values, df.preds.values, pos_label=1)\n",
    "fig = plt.figure(figsize=(6,6))\n",
    "plt.plot(fpr, tpr)\n",
    "plt.title('NN Regression ROC')\n",
    "plt.annotate('Area: ' + str(round(metrics.auc(fpr, tpr), 2)), xy=(.8,.2), xycoords='axes fraction')\n",
    "plt.xlim((0,1))\n",
    "plt.ylim((0,1))\n",
    "plt.plot([0,1], [0,1], linestyle='--')\n",
    "plt.xlabel('False Positive Rate')\n",
    "plt.ylabel('True Positive Rate')\n",
    "\n",
    "plt.show\n",
    "plt.savefig(\"./plots/roc_curve_train_nn_regression.pdf\")"
   ]
  },
  {
   "cell_type": "markdown",
   "metadata": {},
   "source": [
    "## Compute signal, background and significance"
   ]
  },
  {
   "cell_type": "code",
   "execution_count": null,
   "metadata": {},
   "outputs": [],
   "source": [
    "def n_sig_n_bkg(df, SF0S, n_bins, plot):\n",
    "    df = df[df['SFOS'] == SF0S] \n",
    "\n",
    "    x_bins = np.linspace(0, 1, n_bins)\n",
    "    fig = plt.figure(figsize=(10,6))\n",
    "    gs = gridspec.GridSpec(3, 1)\n",
    "    ax = plt.subplot(gs[0,:])\n",
    "    plt.title('NN Regression Separability on train sample, SF0S = {}'.format(SF0S))\n",
    "    # n_bkg,bins,paint = plt.hist(df[df.is_sig == 0].preds, bins=x_bins, weights=df[df.is_sig == 0].weight, color='r')\n",
    "    n_bkg,bins,paint = plt.hist(df[df.is_sig == 0].preds.as_matrix(), bins=x_bins, weights=df[df.is_sig == 0].weight.as_matrix(), color='r')\n",
    "    plt.xlim([0, 1])\n",
    "    plt.yscale('log')\n",
    "    plt.ylabel(r'Weighted Background Counts', size=9)\n",
    "    plt.legend(handles=[mpatches.Patch(color='red', label='Background')])\n",
    "    ax1 = plt.subplot(gs[1,:])\n",
    "    n_sig,bins,paint = plt.hist(df[df.is_sig == 1].preds.as_matrix(), bins=x_bins, weights=df[df.is_sig == 1].weight.as_matrix(), color='g')\n",
    "    plt.xlim([0, 1])\n",
    "    plt.yscale('log')\n",
    "    plt.ylabel(r'Weighted Signal Counts', size=9)\n",
    "    plt.legend(handles=[mpatches.Patch(color='green', label='Signal')])\n",
    "    ax2 = plt.subplot(gs[2,:])\n",
    "    plt.bar((x_bins[:-1] + x_bins[1:]) / 2., n_sig / np.sqrt(n_bkg), width=x_bins[1] - x_bins[0], color='k')\n",
    "    plt.xlim([0, 1])\n",
    "    plt.ylabel(r'Significance ($S/\\sqrt{B})$', size=9)\n",
    "    plt.xlabel('Probability Event is a Signal')\n",
    "\n",
    "    plt.tight_layout()\n",
    "    if plot==True:\n",
    "        plt.show()\n",
    "    return n_sig, n_bkg"
   ]
  },
  {
   "cell_type": "code",
   "execution_count": null,
   "metadata": {},
   "outputs": [],
   "source": [
    "sign_combined = 0.\n",
    "for SFdata:image/png;base64,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 in range(3):\n",
    "    n_sig, n_bkg = n_sig_n_bkg(pandas_dataset, SF0S, n_bins=20, plot=True)\n",
    "    \n",
    "    total_significance = 0.\n",
    "    for s, b in zip(n_sig, n_bkg):\n",
    "        if b == 0:\n",
    "            continue\n",
    "        else:\n",
    "            total_significance += s**2/b\n",
    "    sign_combined += total_significance\n",
    "    total_significance = np.sqrt(total_significance)\n",
    "    print \"signficance with SF0S = {} : {} sigma\".format(SF0S, total_significance)\n",
    "\n",
    "print \"combined significance: {}\".format(np.sqrt(sign_combined))"
   ]
  },
  {
   "cell_type": "code",
   "execution_count": null,
   "metadata": {},
   "outputs": [],
   "source": [
    "significance = []\n",
    "signal = []\n",
    "background = []\n",
    "probability_cuts = np.linspace(0, 1, 20)\n",
    "for SF0S in range(3):\n",
    "    significance.append([])\n",
    "    signal.append([])\n",
    "    background.append([])\n",
    "    for p in probability_cuts:\n",
    "        sig = pandas_dataset[(pandas_dataset['SFOS'] == SF0S)\n",
    "                                 & (pandas_dataset['preds'] > p)\n",
    "                                 & (pandas_dataset['is_sig'] == 1)]['weight'].sum()\n",
    "        bg = pandas_dataset[(pandas_dataset['SFOS'] == SF0S)\n",
    "                                 & (pandas_dataset['preds'] > p)\n",
    "                                 & (pandas_dataset['is_sig'] == 0)]['weight'].sum()\n",
    "        \n",
    "        # significance[SF0S].append(sig/np.sqrt(bg))\n",
    "        significance[SF0S].append( np.sqrt(2*( (sig + bg)*np.log(1+sig/bg) -sig)) )\n",
    "        \n",
    "        signal[SF0S].append(sig)\n",
    "        background[SF0S].append(bg)\n",
    "    plt.plot(probability_cuts, significance[SF0S], label=\"SF0S = {}\".format(SF0S))\n",
    "\n",
    "plt.legend(loc='best')\n",
    "plt.title('Significance varying cuts and for various SF0S')\n",
    "plt.xlabel('Classifier output')\n",
    "plt.ylabel('Signficance')\n",
    "plt.xlim((0,1))\n",
    "plt.grid()\n",
    "plt.show()"
   ]
  },
  {
   "cell_type": "code",
   "execution_count": null,
   "metadata": {},
   "outputs": [],
   "source": [
    "for SF0S in range(3):\n",
    "    plt.plot(probability_cuts, background[SF0S], label=\"SF0S = {}\".format(SF0S))\n",
    "\n",
    "plt.legend(loc='best')\n",
    "plt.title('Number of background events varying cuts and for various SF0S')\n",
    "plt.xlabel('Classifier output')\n",
    "plt.ylabel('Number of background events')\n",
    "plt.xlim((0,1))\n",
    "plt.yscale('log')\n",
    "plt.grid()\n",
    "plt.show()"
   ]
  },
  {
   "cell_type": "code",
   "execution_count": null,
   "metadata": {},
   "outputs": [],
   "source": [
    "for SF0S in range(3):\n",
    "    plt.plot(probability_cuts, signal[SF0S], label=\"SF0S = {}\".format(SF0S))\n",
    "\n",
    "plt.legend(loc='best')\n",
    "plt.title('Number of signal events varying cuts and for various SF0S')\n",
    "plt.xlabel('Classifier output')\n",
    "plt.ylabel('Number of signal events')\n",
    "plt.xlim((0,1))\n",
    "plt.yscale('log')\n",
    "plt.grid()\n",
    "plt.show()"
   ]
  },
  {
   "cell_type": "markdown",
   "metadata": {},
   "source": [
    "# Testing plots"
   ]
  },
  {
   "cell_type": "code",
   "execution_count": null,
   "metadata": {},
   "outputs": [],
   "source": [
    "figures = []\n",
    "for var in in_dataset.input_vars:\n",
    "    colors = ['r', 'b']\n",
    "    title = {0: 'background', 1: 'signal'}\n",
    "    \n",
    "    f, axes = plt.subplots(1, 2, sharey=True)\n",
    "    for sig in [0, 1]:        \n",
    "        x = pandas_dataset[pandas_dataset['is_sig'] == sig][var]\n",
    "        y = pandas_dataset[pandas_dataset['is_sig'] == sig]['preds']\n",
    "        weight = pandas_dataset[pandas_dataset['is_sig'] == sig]['weight']\n",
    "        \n",
    "        h = axes[sig].hist2d(x, y, weights=weight, bins=20, norm=LogNorm())\n",
    "        axes[sig].set_ylabel('classifier output')\n",
    "        axes[sig].set_xlabel(var)\n",
    "        axes[sig].set_title(title[sig] + ', corr: {:.2f}'.format(corr(x, y, weight)))\n",
    "    #f.colorbar(h[3]) \n",
    "    # plt.show()\n",
    "    figures.append(f)\n",
    "\n",
    "import matplotlib.backends.backend_pdf\n",
    "pdf = matplotlib.backends.backend_pdf.PdfPages(\"2D_plots.pdf\")\n",
    "for fig in figures:\n",
    "    pdf.savefig( fig )\n",
    "pdf.close()"
   ]
  },
  {
   "cell_type": "markdown",
   "metadata": {},
   "source": [
    "# Various trials"
   ]
  },
  {
   "cell_type": "code",
   "execution_count": null,
   "metadata": {},
   "outputs": [],
   "source": [
    "df = pandas_dataset\n",
    "df = df[df['SFOS'] == 0] \n",
    "\n",
    "x_bins = np.linspace(0, max(df.preds), 30)\n",
    "fig = plt.figure(figsize=(10,6))\n",
    "gs = gridspec.GridSpec(3, 1)\n",
    "ax = plt.subplot(gs[0,:])\n",
    "plt.title('NN Regression Separability on train sample')\n",
    "# n_bkg,bins,paint = plt.hist(df[df.is_sig == 0].preds, bins=x_bins, weights=df[df.is_sig == 0].weight, color='r')\n",
    "n_bkg,bins,paint = plt.hist(df[df.is_sig == 0].preds.as_matrix(), bins=x_bins, weights=df[df.is_sig == 0].weight.as_matrix(), color='r')\n",
    "plt.yscale('log')\n",
    "plt.ylabel(r'Weighted Background Counts', size=9)\n",
    "plt.legend(handles=[mpatches.Patch(color='red', label='Background')])\n",
    "ax1 = plt.subplot(gs[1,:])\n",
    "n_sig,bins,paint = plt.hist(df[df.is_sig == 1].preds.as_matrix(), bins=x_bins, weights=df[df.is_sig == 1].weight.as_matrix(), color='g')\n",
    "plt.yscale('log')\n",
    "plt.ylabel(r'Weighted Signal Counts', size=9)\n",
    "plt.legend(handles=[mpatches.Patch(color='green', label='Signal')])\n",
    "ax2 = plt.subplot(gs[2,:])\n",
    "plt.bar((x_bins[:-1] + x_bins[1:]) / 2., n_sig / np.sqrt(n_bkg), width=x_bins[1] - x_bins[0], color='k')\n",
    "plt.ylabel(r'Significance ($S/\\sqrt{B})$', size=9)\n",
    "plt.xlabel('Probability Event is a Signal')\n",
    "\n",
    "plt.tight_layout()\n",
    "plt.show()\n",
    "# plt.savefig(\"./plots/preds_train_nn_regression.pdf\")"
   ]
  }
 ],
 "metadata": {
  "kernelspec": {
   "display_name": "Python 2",
   "language": "python",
   "name": "python2"
  },
  "language_info": {
   "codemirror_mode": {
    "name": "ipython",
    "version": 2
   },
   "file_extension": ".py",
   "mimetype": "text/x-python",
   "name": "python",
   "nbconvert_exporter": "python",
   "pygments_lexer": "ipython2",
   "version": "2.7.11"
  }
 },
 "nbformat": 4,
 "nbformat_minor": 2
}
